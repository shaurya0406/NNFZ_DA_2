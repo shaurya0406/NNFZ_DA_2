{
 "cells": [
  {
   "source": [
    "Single Layer AND Perceptron using Unipolar Discrete Activation function i.e Signum()"
   ],
   "cell_type": "markdown",
   "metadata": {}
  },
  {
   "cell_type": "code",
   "execution_count": 40,
   "metadata": {},
   "outputs": [],
   "source": [
    "import numpy as np"
   ]
  },
  {
   "cell_type": "code",
   "execution_count": 41,
   "metadata": {},
   "outputs": [],
   "source": [
    "def Error(output, desired):\n",
    "    if output == desired:\n",
    "      return 0\n",
    "    else:\n",
    "      return desired-output\n",
    "def signum(x):\n",
    "    if x > 0:\n",
    "        return 1\n",
    "    else:\n",
    "        return 0"
   ]
  },
  {
   "cell_type": "code",
   "execution_count": 42,
   "metadata": {},
   "outputs": [],
   "source": [
    "X = np.array([[0, 0], [0, 1], [1, 0] , [1, 1]]) \n",
    "Y = np.array([0, 0, 0, 1])"
   ]
  },
  {
   "cell_type": "code",
   "execution_count": 43,
   "metadata": {},
   "outputs": [],
   "source": [
    "Epoch = 500\n",
    "c = 1\n",
    "W_0 = 0; W_1 = 0; W_2 = 0; # W_0 is the bias"
   ]
  },
  {
   "cell_type": "code",
   "execution_count": 44,
   "metadata": {},
   "outputs": [],
   "source": [
    "for ep in range(Epoch):\n",
    "    random_index = np.arange(X.shape[0])\n",
    "    np.random.shuffle(random_index)\n",
    "    for i in random_index:\n",
    "        x = X[i]\n",
    "        Z_Train = W_1* x[0] + W_2* x[1] + W_0\n",
    "        Y_Train = signum(Z_Train)\n",
    "        dW_1 = Error(Y_Train, Y[i]) * x[0]\n",
    "        dW_2 = Error(Y_Train, Y[i]) * x[1]\n",
    "        dW_0 = Error(Y_Train, Y[i])\n",
    "        W_0 = W_0 + c * dW_0\n",
    "        W_1 = W_1 + c * dW_1\n",
    "        W_2 = W_2 + c * dW_2"
   ]
  },
  {
   "cell_type": "code",
   "execution_count": 45,
   "metadata": {},
   "outputs": [
    {
     "output_type": "stream",
     "name": "stdout",
     "text": [
      "1\n1\n-1\n"
     ]
    }
   ],
   "source": [
    "print(W_1)\n",
    "print(W_2)\n",
    "print(W_0)"
   ]
  },
  {
   "cell_type": "code",
   "execution_count": 46,
   "metadata": {},
   "outputs": [
    {
     "output_type": "stream",
     "name": "stdout",
     "text": [
      "AND(0, 0) = 0\nAND(0, 1) = 0\nAND(1, 0) = 0\nAND(1, 1) = 1\n"
     ]
    }
   ],
   "source": [
    "\n",
    "Test_Data = np.array([[0, 0], [0, 1], [1, 0], [1, 1]]) \n",
    "\n",
    "def AND_Perceptron(i):\n",
    "        x = Test_Data[i]\n",
    "        Z_Test = W_1* x[0] + W_2* x[1] + W_0\n",
    "        Y_Test = signum(Z_Test)\n",
    "        return Y_Test\n",
    "\n",
    "  \n",
    "print(\"AND({}, {}) = {}\".format(0, 0, AND_Perceptron(0)))\n",
    "print(\"AND({}, {}) = {}\".format(0, 1, AND_Perceptron(1)))\n",
    "print(\"AND({}, {}) = {}\".format(1, 0, AND_Perceptron(2)))\n",
    "print(\"AND({}, {}) = {}\".format(1, 1, AND_Perceptron(3)))"
   ]
  },
  {
   "cell_type": "code",
   "execution_count": null,
   "metadata": {},
   "outputs": [],
   "source": []
  }
 ],
 "metadata": {
  "kernelspec": {
   "name": "python385jvsc74a57bd0122db4a888a057ee828022917cb1f92ba492b866dcf7ffad6e7dd81eb6ccb4ad",
   "display_name": "Python 3.8.5 64-bit ('base': conda)"
  },
  "language_info": {
   "codemirror_mode": {
    "name": "ipython",
    "version": 3
   },
   "file_extension": ".py",
   "mimetype": "text/x-python",
   "name": "python",
   "nbconvert_exporter": "python",
   "pygments_lexer": "ipython3",
   "version": "3.8.5"
  }
 },
 "nbformat": 4,
 "nbformat_minor": 2
}